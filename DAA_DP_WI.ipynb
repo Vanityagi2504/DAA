{
  "nbformat": 4,
  "nbformat_minor": 0,
  "metadata": {
    "colab": {
      "provenance": []
    },
    "kernelspec": {
      "name": "python3",
      "display_name": "Python 3"
    },
    "language_info": {
      "name": "python"
    }
  },
  "cells": [
    {
      "cell_type": "code",
      "source": [
        "def weighted_interval_scheduling(intervals):\n",
        "\n",
        "\n",
        "  n = len(intervals)\n",
        "  intervals.sort(key=lambda x: x[1])  # Sort intervals by finish times\n",
        "\n",
        "  # Compute C(i), the index of the latest non-overlapping interval before i\n",
        "  C = [0] * n\n",
        "  for i in range(n):\n",
        "    j = i - 1\n",
        "    while j >= 0 and intervals[j][1] > intervals[i][0]:\n",
        "      j -= 1\n",
        "    C[i] = j\n",
        "\n",
        "  # Initialize dp table\n",
        "  dp = [0] * n\n",
        "  dp[0] = intervals[0][2]\n",
        "\n",
        "  for i in range(1, n):\n",
        "    dp[i] = max(dp[i - 1], intervals[i][2] + (dp[C[i]] if C[i] >= 0 else 0))\n",
        "\n",
        "  return max(dp) if dp else 0\n",
        "\n",
        "# Example\n",
        "intervals = [(1, 4, 6), (2, 5, 6), (4, 6, 5), (6, 7, 4), (5, 8, 11), (7, 9, 2)]\n",
        "max_weight = weighted_interval_scheduling(intervals)\n",
        "print(f\"Maximum weight of non-overlapping intervals: {max_weight}\")"
      ],
      "metadata": {
        "colab": {
          "base_uri": "https://localhost:8080/"
        },
        "id": "uZ3j5U4n9XNB",
        "outputId": "fa83429f-3fa4-4f59-db59-db7c7937c974"
      },
      "execution_count": 3,
      "outputs": [
        {
          "output_type": "stream",
          "name": "stdout",
          "text": [
            "Maximum weight of non-overlapping intervals: 17\n"
          ]
        }
      ]
    }
  ]
}